{
 "metadata": {
  "name": "",
  "signature": "sha256:d3963f3cbc348dbe19336ff87eb257dc313b8cee1165d09273b8ffd7afa3ec48"
 },
 "nbformat": 3,
 "nbformat_minor": 0,
 "worksheets": [
  {
   "cells": [
    {
     "cell_type": "code",
     "collapsed": false,
     "input": [
      "%load_ext autoreload\n",
      "%autoreload 2\n",
      "import gepyto\n",
      "from gepyto.structures.genes import Gene\n",
      "from gepyto.structures.variants import SNP, Indel\n",
      "from gepyto.utils.variants import ensembl_variants_in_region\n",
      "from gepyto.db.gepytodb import GepytoDB\n",
      "\n",
      "import random"
     ],
     "language": "python",
     "metadata": {},
     "outputs": [
      {
       "output_type": "stream",
       "stream": "stdout",
       "text": [
        "The autoreload extension is already loaded. To reload it, use:\n",
        "  %reload_ext autoreload\n"
       ]
      }
     ],
     "prompt_number": 20
    },
    {
     "cell_type": "code",
     "collapsed": false,
     "input": [
      "db = GepytoDB(\"CKM_Variants\")"
     ],
     "language": "python",
     "metadata": {},
     "outputs": [],
     "prompt_number": 21
    },
    {
     "cell_type": "code",
     "collapsed": false,
     "input": [
      "# Get information on the CKM gene.\n",
      "ckm = Gene.factory_symbol(\"CKM\")\n",
      "transcripts = ckm.transcripts\n",
      "\n",
      "# Find orthologs (to get some sequence objects).\n",
      "sequences = ckm.get_ortholog_sequences()\n",
      "\n",
      "# Get all the variants in the gene.\n",
      "variants = ensembl_variants_in_region(ckm.region)\n",
      "\n",
      "# Add something to the _info field on variants just to show that it\n",
      "# will appear.\n",
      "for v in variants:\n",
      "    v._info = {\"score\": random.random()}"
     ],
     "language": "python",
     "metadata": {},
     "outputs": [
      {
       "output_type": "stream",
       "stream": "stderr",
       "text": [
        "WARNING:root:RS=None has only one allele (ignored).\n"
       ]
      }
     ],
     "prompt_number": 16
    },
    {
     "cell_type": "code",
     "collapsed": false,
     "input": [
      "# Now we will create the MongoDB collections\n",
      "db.insert(\"genes\", ckm)\n",
      "db.bulk_insert(\"variants\", variants)\n",
      "db.bulk_insert(\"sequences\", sequences)"
     ],
     "language": "python",
     "metadata": {},
     "outputs": [],
     "prompt_number": 18
    },
    {
     "cell_type": "code",
     "collapsed": false,
     "input": [
      "# Now we can do some queries.\n",
      "exons = db.find_one(\"genes\", {\"symbol\": \"CKM\"}, {\"_id\": 0, \"exons\": 1})[\"exons\"]\n",
      "exon1 = exons[0]\n",
      "\n",
      "# Find all the variants in this exon.\n",
      "variants = db.find(\n",
      "    \"variants\",\n",
      "    {\"pos\": {\"$gt\": exon1[0]}, \"pos\": {\"$lt\": exon1[1]}},\n",
      "    {\"_id\": 0}\n",
      ")\n",
      "\n",
      "for v in variants:\n",
      "    print \"chr{}:{}_{}/{}\".format(\n",
      "        v[\"chrom\"], v[\"pos\"], v[\"ref\"], v[\"alt\"]\n",
      "    )"
     ],
     "language": "python",
     "metadata": {},
     "outputs": [
      {
       "output_type": "stream",
       "stream": "stdout",
       "text": [
        "chr19:45809672_A/T\n",
        "chr19:45809685_C/T\n",
        "chr19:45809697_G/A\n",
        "chr19:45809750_A/G\n",
        "chr19:45809800_C/T\n",
        "chr19:45809886_A/G\n",
        "chr19:45809912_A/C\n",
        "chr19:45809924_G/T\n",
        "chr19:45809940_C/T\n",
        "chr19:45809961_C/T\n",
        "chr19:45809962_C/T\n",
        "chr19:45809987_C/T\n",
        "chr19:45809988_G/A\n",
        "chr19:45810005_C/T\n",
        "chr19:45810010_A/G\n",
        "chr19:45810026_C/G\n",
        "chr19:45810035_A/G\n",
        "chr19:45810044_G/C\n",
        "chr19:45810055_A/G\n",
        "chr19:45810064_C/G\n",
        "chr19:45810075_A/C\n",
        "chr19:45810075_A/G\n",
        "chr19:45810108_T/C\n",
        "chr19:45810117_TC/T\n",
        "chr19:45810131_C/T\n",
        "chr19:45810149_G/A\n"
       ]
      }
     ],
     "prompt_number": 34
    },
    {
     "cell_type": "code",
     "collapsed": false,
     "input": [
      "# We can also do the queries directly on the underlying db object.\n",
      "db.db[\"sequences\"].distinct(\n",
      "    \"info.species\"\n",
      ")"
     ],
     "language": "python",
     "metadata": {},
     "outputs": [
      {
       "metadata": {},
       "output_type": "pyout",
       "prompt_number": 36,
       "text": [
        "[u'gorilla_gorilla',\n",
        " u'pan_troglodytes',\n",
        " u'pongo_abelii',\n",
        " u'macaca_mulatta',\n",
        " u'callithrix_jacchus',\n",
        " u'mus_musculus',\n",
        " u'dipodomys_ordii',\n",
        " u'cavia_porcellus',\n",
        " u'rattus_norvegicus',\n",
        " u'ictidomys_tridecemlineatus',\n",
        " u'loxodonta_africana',\n",
        " u'vicugna_pacos',\n",
        " u'monodelphis_domestica',\n",
        " u'macropus_eugenii',\n",
        " u'sarcophilus_harrisii',\n",
        " u'ornithorhynchus_anatinus',\n",
        " u'anolis_carolinensis',\n",
        " u'oreochromis_niloticus',\n",
        " u'oryzias_latipes',\n",
        " u'tetraodon_nigroviridis',\n",
        " u'astyanax_mexicanus',\n",
        " u'takifugu_rubripes',\n",
        " u'lepisosteus_oculatus',\n",
        " u'danio_rerio',\n",
        " u'gadus_morhua',\n",
        " u'gasterosteus_aculeatus',\n",
        " u'xiphophorus_maculatus',\n",
        " u'ciona_intestinalis',\n",
        " u'ciona_savignyi',\n",
        " u'caenorhabditis_elegans',\n",
        " u'drosophila_melanogaster',\n",
        " u'bos_taurus',\n",
        " u'equus_caballus',\n",
        " u'ovis_aries',\n",
        " u'procavia_capensis',\n",
        " u'felis_catus',\n",
        " u'sus_scrofa',\n",
        " u'tursiops_truncatus',\n",
        " u'ailuropoda_melanoleuca',\n",
        " u'myotis_lucifugus',\n",
        " u'mustela_putorius_furo',\n",
        " u'canis_familiaris',\n",
        " u'nomascus_leucogenys',\n",
        " u'pteropus_vampyrus',\n",
        " u'otolemur_garnettii',\n",
        " u'microcebus_murinus',\n",
        " u'dasypus_novemcinctus',\n",
        " u'sorex_araneus',\n",
        " u'tupaia_belangeri',\n",
        " u'oryctolagus_cuniculus',\n",
        " u'erinaceus_europaeus',\n",
        " u'latimeria_chalumnae',\n",
        " u'xenopus_tropicalis']"
       ]
      }
     ],
     "prompt_number": 36
    },
    {
     "cell_type": "code",
     "collapsed": false,
     "input": [],
     "language": "python",
     "metadata": {},
     "outputs": []
    }
   ],
   "metadata": {}
  }
 ]
}