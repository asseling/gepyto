{
 "metadata": {
  "name": "",
  "signature": "sha256:b63d04e04a46405544cfcb9c8b0f57f920d28e068eaaa7c77e17a6114d3e1211"
 },
 "nbformat": 3,
 "nbformat_minor": 0,
 "worksheets": [
  {
   "cells": [
    {
     "cell_type": "code",
     "collapsed": false,
     "input": [
      "%pylab inline\n",
      "import genometools\n",
      "from genometools.structures.genes import Gene\n",
      "\n",
      "import matplotlib.pyplot as plt"
     ],
     "language": "python",
     "metadata": {},
     "outputs": [
      {
       "output_type": "stream",
       "stream": "stdout",
       "text": [
        "Populating the interactive namespace from numpy and matplotlib\n"
       ]
      }
     ],
     "prompt_number": 2
    },
    {
     "cell_type": "code",
     "collapsed": false,
     "input": [
      "# Load a gene from Ensembl\n",
      "g = Gene.factory_symbol(\"CKM\")\n",
      "\n",
      "# This gene has only one transcript so we will\n",
      "# get the corresponding sequence.\n",
      "s = g.transcripts[0].get_sequence(\"protein\")\n",
      "print s"
     ],
     "language": "python",
     "metadata": {},
     "outputs": [
      {
       "output_type": "stream",
       "stream": "stdout",
       "text": [
        "<Sequence: ENSP00000221476>\n"
       ]
      }
     ],
     "prompt_number": 3
    },
    {
     "cell_type": "code",
     "collapsed": false,
     "input": [
      "# Now we can compute the base-base correlation and plot it.\n",
      "bbc = s.bbc(k=50)\n",
      "\n",
      "# We can also compare this to an ortholog.\n",
      "orthos = g.get_ortholog_sequences()\n",
      "ortho = orthos[0]\n",
      "print ortho.info[\"species\"], ortho\n",
      "ortho_bbc = ortho.bbc(k=50)\n",
      "\n",
      "# And to anothe human gene.\n",
      "g2 = Gene.factory_symbol(\"LILRB5\")\n",
      "other_bbc = g2.transcripts[0].get_sequence(\"protein\").bbc(k=50)\n",
      "\n",
      "fig, axes = plt.subplots(1, 3, figsize=(15, 4))\n",
      "axes[0].imshow(bbc.reshape(20, 20), interpolation='none')\n",
      "axes[0].set_xlabel(\"Human CKM\")\n",
      "\n",
      "axes[1].imshow(ortho_bbc.reshape(20, 20), interpolation='none')\n",
      "axes[1].set_xlabel(\"Gorilla CKM\")\n",
      "\n",
      "axes[2].imshow(other_bbc.reshape(20, 20), interpolation='none')\n",
      "axes[2].set_xlabel(\"Human LILRB5\")"
     ],
     "language": "python",
     "metadata": {},
     "outputs": [
      {
       "output_type": "stream",
       "stream": "stdout",
       "text": [
        "rattus_norvegicus <Sequence: ENSRNOP00000022895>\n"
       ]
      },
      {
       "metadata": {},
       "output_type": "pyout",
       "prompt_number": 6,
       "text": [
        "<matplotlib.text.Text at 0x1147eca10>"
       ]
      },
      {
       "metadata": {},
       "output_type": "display_data",
       "png": "[encoded data removed]",
       "text": [
        "<matplotlib.figure.Figure at 0x1144d8410>"
       ]
      }
     ],
     "prompt_number": 6
    },
    {
     "cell_type": "markdown",
     "metadata": {},
     "source": [
      "As you can see, the BBC profiles for the orthologs are more similar than for another human gene I picked off the top of my head. This was just a short showcase of ``genometools`` capabilities with respect to sequence analysis and easy homology or sequence queries."
     ]
    },
    {
     "cell_type": "code",
     "collapsed": false,
     "input": [],
     "language": "python",
     "metadata": {},
     "outputs": [],
     "prompt_number": 4
    }
   ],
   "metadata": {}
  }
 ]
}