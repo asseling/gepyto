{
 "metadata": {
  "name": "",
  "signature": "sha256:f86679cd2672a18d335529ed6de1977e736cde0e2f17ef198c16b44dc7b34645"
 },
 "nbformat": 3,
 "nbformat_minor": 0,
 "worksheets": [
  {
   "cells": [
    {
     "cell_type": "markdown",
     "metadata": {},
     "source": [
      "We will describe how to find a list of SNPs from a gene transcript and annotate by querying external databases and tools. This is meant to demonstrate the useful abstraction that ``genometools`` provides to bioinformaticists."
     ]
    },
    {
     "cell_type": "code",
     "collapsed": false,
     "input": [
      "import pprint\n",
      "\n",
      "import genometools\n",
      "import genometools.utils as utils\n",
      "from genometools.structures.genes import Gene\n",
      "\n",
      "# We use pprint to display things nicely.\n",
      "pp = pprint.PrettyPrinter(indent=4)"
     ],
     "language": "python",
     "metadata": {},
     "outputs": [],
     "prompt_number": 1
    },
    {
     "cell_type": "code",
     "collapsed": false,
     "input": [
      "# Build a gene object from a symbol.\n",
      "g = Gene.factory_symbol(\"CKM\")\n",
      "print \"Initialized the CKM gene from public databases: \", g\n",
      "print \"  Transcripts: \", g.transcripts\n",
      "print \"  Other Ids: \"\n",
      "pp.pprint(g.xrefs)"
     ],
     "language": "python",
     "metadata": {},
     "outputs": [
      {
       "output_type": "stream",
       "stream": "stdout",
       "text": [
        "Initialized the CKM gene from public databases:  <Gene:CKM (chr19:45809672-45826235)>\n",
        "  Transcripts:  [<Transcript:ENST00000221476 (chr19:45809672-45826235)>]\n",
        "  Other Ids: \n",
        "{   'cosmic_id': 'CKM',\n",
        "    'ensembl_id': 'ENSG00000104879',\n",
        "    'name': 'creatine kinase, muscle',\n",
        "    'ncbi_id': '1158',\n",
        "    'omim_ids': '[123310]',\n",
        "    'refseq_ids': \"[u'NM_001824']\",\n",
        "    'ucsc_id': 'uc002pbd.4',\n",
        "    'uniprot_ids': \"[u'P06732']\"}\n"
       ]
      }
     ],
     "prompt_number": 2
    },
    {
     "cell_type": "markdown",
     "metadata": {},
     "source": [
      "We successfully created a ``Gene`` object by simply using the known HGNC gene symbol. This fetched information about cross-references in other databases, the position of exons and the different transcripts (in this case only one).\n",
      "\n",
      "We will take this transcript and find all overlapping small scale genetic variants. Then, we will annotate these variants."
     ]
    },
    {
     "cell_type": "code",
     "collapsed": false,
     "input": [
      "region = \"chr{}:{}-{}\".format(g.chrom, g.start, g.end)\n",
      "print \"Getting variants in region {}\".format(region)\n",
      "\n",
      "variants = utils.variants.ensembl_variants_in_region(region)\n",
      "\n",
      "# An example of variant object:\n",
      "print \"Genometools provides Variant objects: \", variants[0]\n",
      "\n",
      "# Proceed with CADD annotation.\n",
      "cadd_annos = genometools.annotation.cadd.cadd_score(variants)\n",
      "\n",
      "# Also get regulation information from RegulomeDB\n",
      "# RegulomeDB queries need to be separated by newlines for lists \n",
      "# and the positions have to be 0-based.\n",
      "regul_annos = genometools.annotation.regulome.query_regulomedb(\n",
      "    \"\\n\".join([v.get_position(zero_based=True) for v in variants])\n",
      ")\n"
     ],
     "language": "python",
     "metadata": {},
     "outputs": [
      {
       "output_type": "stream",
       "stream": "stderr",
       "text": [
        "WARNING:root:RS: None has only one allele (ignored).\n"
       ]
      },
      {
       "output_type": "stream",
       "stream": "stdout",
       "text": [
        "Getting variants in region chr19:45809672-45826235\n",
        "Genometools provides Variant objects: "
       ]
      },
      {
       "output_type": "stream",
       "stream": "stdout",
       "text": [
        " chr19:45809672_A/T\n"
       ]
      }
     ],
     "prompt_number": 4
    },
    {
     "cell_type": "code",
     "collapsed": false,
     "input": [
      "# Example of CADD annotation.\n",
      "print \"CADD annotations are tuples of (feature, variant, c_score and information).\\n\"\n",
      "tr, var, c_score, info = cadd_annos[0]\n",
      "print  (\"CADD predicts that the variant {} will have a \"\n",
      "        \"consequence ({}) on the feature {}.\".format(\n",
      "    var, info[\"consequence\"], tr\n",
      "))\n",
      "\n",
      "print \"The assigned C Score = {}\".format(c_score)\n",
      "print\n",
      "\n",
      "tr, var, c_score, info = cadd_annos[15]\n",
      "print (\"Another example is the ({}) effect of the variant {} \"\n",
      "       \"on {}\".format(info[\"consequence\"], var, tr))\n",
      "\n",
      "print \"The assigned C Score = {}\".format(c_score)\n",
      "\n",
      "print  (\"\\nA total of {} annotations are provided \"\n",
      "        \"for this region.\".format(len(cadd_annos)))\n",
      "\n",
      "print \"\\nRegulomeDB annotations are dictionaries that look like this: \"\n",
      "pp.pprint(regul_annos[0])"
     ],
     "language": "python",
     "metadata": {},
     "outputs": [
      {
       "output_type": "stream",
       "stream": "stdout",
       "text": [
        "CADD annotations are tuples of (feature, variant, c_score and information).\n",
        "\n",
        "CADD predicts that the variant chr19:45809672_A/T will have a consequence (REGULATORY) on the feature ENSR00000216992.\n",
        "The assigned C Score = 11.66\n",
        "\n",
        "Another example is the (NON_SYNONYMOUS) effect of the variant chr19:45810026_C/G on <Transcript:ENST00000221476 (chr19:45809672-45826235)>\n",
        "The assigned C Score = 16.29\n",
        "\n",
        "A total of 420 annotations are provided for this region.\n",
        "\n",
        "RegulomeDB annotations are dictionaries that look like this: \n",
        "{   'chrom': u'19',\n",
        "    'hits': [   [u'Chromatin_Structure', u'DNase-seq'],\n",
        "                [u'Protein_Binding', u'ChIP-seq', u'GATA1']],\n",
        "    'pos': 45818525,\n",
        "    'rs': u'rs4803813',\n",
        "    'score': u'4'}\n"
       ]
      }
     ],
     "prompt_number": 24
    },
    {
     "cell_type": "markdown",
     "metadata": {},
     "source": [
      "This brief example shows some of the features of ``genometools``. This is a fairly new project and will probably grow a lot more, integrating more sources of annotation. Nonetheless, the features described here show how easy it is to fetch gene, transcript and variant information from public databases using this tool."
     ]
    },
    {
     "cell_type": "code",
     "collapsed": false,
     "input": [],
     "language": "python",
     "metadata": {},
     "outputs": []
    }
   ],
   "metadata": {}
  }
 ]
}