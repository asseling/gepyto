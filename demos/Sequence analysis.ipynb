{
 "cells": [
  {
   "cell_type": "code",
   "execution_count": 1,
   "metadata": {
    "collapsed": false
   },
   "outputs": [
    {
     "name": "stdout",
     "output_type": "stream",
     "text": [
      "Populating the interactive namespace from numpy and matplotlib\n"
     ]
    }
   ],
   "source": [
    "%pylab inline\n",
    "import gepyto\n",
    "from gepyto.structures.genes import Gene\n",
    "\n",
    "import matplotlib.pyplot as plt"
   ]
  },
  {
   "cell_type": "code",
   "execution_count": 2,
   "metadata": {
    "collapsed": false
   },
   "outputs": [
    {
     "name": "stdout",
     "output_type": "stream",
     "text": [
      "<Sequence: ENSP00000221476>\n"
     ]
    }
   ],
   "source": [
    "# Load a gene from Ensembl\n",
    "g = Gene.factory_symbol(\"CKM\")\n",
    "\n",
    "# This gene has only one transcript so we will\n",
    "# get the corresponding sequence.\n",
    "s = g.transcripts[0].get_sequence(\"protein\")\n",
    "print s"
   ]
  },
  {
   "cell_type": "code",
   "execution_count": 3,
   "metadata": {
    "collapsed": false
   },
   "outputs": [
    {
     "name": "stdout",
     "output_type": "stream",
     "text": [
      "pan_troglodytes <Sequence: ENSPTRP00000019130>\n"
     ]
    },
    {
     "data": {
      "text/plain": [
       "<matplotlib.text.Text at 0x103f45450>"
      ]
     },
     "execution_count": 3,
     "metadata": {},
     "output_type": "execute_result"
    },
    {
     "data": {
      "image/png": "[encoded data removed]",
      "text/plain": [
       "<matplotlib.figure.Figure at 0x103e24590>"
      ]
     },
     "metadata": {},
     "output_type": "display_data"
    }
   ],
   "source": [
    "# Now we can compute the base-base correlation and plot it.\n",
    "bbc = s.bbc(k=50)\n",
    "\n",
    "# We can also compare this to an ortholog.\n",
    "orthos = g.get_ortholog_sequences()\n",
    "ortho = orthos[0]\n",
    "print ortho.info[\"species\"], ortho\n",
    "ortho_bbc = ortho.bbc(k=50)\n",
    "\n",
    "# And to anothe human gene.\n",
    "g2 = Gene.factory_symbol(\"LILRB5\")\n",
    "other_bbc = g2.transcripts[0].get_sequence(\"protein\").bbc(k=50)\n",
    "\n",
    "fig, axes = plt.subplots(1, 3, figsize=(15, 4))\n",
    "axes[0].imshow(bbc.reshape(20, 20), interpolation='none')\n",
    "axes[0].set_xlabel(\"Human CKM\")\n",
    "\n",
    "axes[1].imshow(ortho_bbc.reshape(20, 20), interpolation='none')\n",
    "axes[1].set_xlabel(\"Gorilla CKM\")\n",
    "\n",
    "axes[2].imshow(other_bbc.reshape(20, 20), interpolation='none')\n",
    "axes[2].set_xlabel(\"Human LILRB5\")"
   ]
  },
  {
   "cell_type": "markdown",
   "metadata": {},
   "source": [
    "As you can see, the BBC profiles for the orthologs are more similar than for another human gene I picked off the top of my head. This was just a short showcase of ``gepyto`` capabilities with respect to sequence analysis and easy homology or sequence queries."
   ]
  }
 ],
 "metadata": {
  "kernelspec": {
   "display_name": "Python 2",
   "language": "python",
   "name": "python2"
  },
  "language_info": {
   "codemirror_mode": {
    "name": "ipython",
    "version": 2
   },
   "file_extension": ".py",
   "mimetype": "text/x-python",
   "name": "python",
   "nbconvert_exporter": "python",
   "pygments_lexer": "ipython2",
   "version": "2.7.8"
  }
 },
 "nbformat": 4,
 "nbformat_minor": 0
}
